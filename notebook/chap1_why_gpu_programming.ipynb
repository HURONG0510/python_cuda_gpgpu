{
 "cells": [
  {
   "cell_type": "markdown",
   "metadata": {},
   "source": [
    "# Basic Conception\n",
    "\n",
    "## Amdahl's Law\n",
    "Latency refers to the beginning-to-end duration of performing a single computation.\n",
    "\n",
    "Thoughput refers to the number of computations that can be performed simultaneously. \n",
    "\n",
    "(high throughtput, high latency) GPU就像是很宽的城市道路，一次可以有很多个车道，但是所有车都很慢。\n",
    "(low throughtput, low latency) CPU是很快的高速路，一次只允许几辆车，但是速度很快。\n",
    "\n",
    "\n",
    "**Definition** (Amdahl's Law) The parallelizable proportion of execution time for code in original serial program is referred to as $p$ with the number of processor cores $N$. The speedup with Amdahl's Law is as follows:\n",
    "$$\n",
    "Speedup = \\frac{1}{(1-p)+p/N}\n",
    "$$\n",
    "\n",
    "## The Mandelbrot set\n",
    "**Definition** (Mandelbrot set) For a given complex number, $c$, we define a recursive sequence for $n\\geq 0$, with $z_0=0$ and $z_n=z_{n-1}^2+c$ for $n\\geq 0$. If $|z_n|$ remains bounded by 2 as $n$ increases to inifinity, then we will say that $c$ is a member of the Mandelbrot set. "
   ]
  },
  {
   "cell_type": "code",
   "execution_count": 3,
   "metadata": {},
   "outputs": [
    {
     "name": "stdout",
     "output_type": "stream",
     "text": [
      "9.458302736282349s to calculate\n",
      "0.04439210891723633s to dump\n"
     ]
    },
    {
     "data": {
      "image/png": "[encoded data removed]",
      "text/plain": [
       "<Figure size 640x480 with 1 Axes>"
      ]
     },
     "metadata": {},
     "output_type": "display_data"
    }
   ],
   "source": [
    "import numpy as np\n",
    "from time import time \n",
    "# the following will prevent the figure from popping up\n",
    "# matplotlib.use('Agg')\n",
    "from matplotlib import pyplot as plt\n",
    "\n",
    "def simple_mandelbrot(width, height, real_low, real_high, imag_low, imag_high, max_iters):\n",
    "    real_vals = np.linspace(real_low, real_high, width)\n",
    "    imag_vals = np.linspace(imag_low, imag_high, height)\n",
    "\n",
    "    mandelbrot_graph = np.ones((height, width), dtype=np.float32)\n",
    "\n",
    "    for x in range(width):\n",
    "        for y in range(height):\n",
    "            c = np.complex64(real_vals[x] + imag_vals[y] * 1j)\n",
    "            z = np.complex64(0)\n",
    "\n",
    "            for i in range(max_iters):\n",
    "                z = z**2 +c\n",
    "\n",
    "                if(np.abs(z)>2):\n",
    "                    mandelbrot_graph[y,x] = 0\n",
    "                    break\n",
    "    \n",
    "    return mandelbrot_graph\n",
    "\n",
    "\n",
    "\n",
    "if __name__ == '__main__':\n",
    "    t1=time()\n",
    "    mandel=simple_mandelbrot(512,512,-2,2,-2,2,256)\n",
    "    t2=time()\n",
    "    mandel_time = t2- t1\n",
    "\n",
    "    t1 = time()\n",
    "    fig = plt.figure(1)\n",
    "    plt.imshow(mandel, extent=(-2,2,-2,2))\n",
    "    t2=time()\n",
    "\n",
    "    dump_time=t2-t1\n",
    "\n",
    "    print(f\"{mandel_time}s to calculate\")\n",
    "    print(f\"{dump_time}s to dump\")"
   ]
  },
  {
   "cell_type": "markdown",
   "metadata": {},
   "source": [
    "在计算这个代码的speedup前，我们需要得到本机的cuda core数量，安装完pycuda后，有"
   ]
  },
  {
   "cell_type": "code",
   "execution_count": 4,
   "metadata": {},
   "outputs": [
    {
     "name": "stdout",
     "output_type": "stream",
     "text": [
      "Device name: NVIDIA TITAN RTX\n",
      "Multiprocessors: 72\n",
      "Compute Capability: 7.5\n",
      "Total CUDA cores: 4608\n"
     ]
    }
   ],
   "source": [
    "import pycuda.driver as cuda\n",
    "import pycuda.autoinit\n",
    "\n",
    "# 获取第一个 GPU 设备\n",
    "device = cuda.Device(0)\n",
    "print(f\"Device name: {device.name()}\")\n",
    "print(f\"Multiprocessors: {device.get_attribute(cuda.device_attribute.MULTIPROCESSOR_COUNT)}\")\n",
    "\n",
    "# 根据计算能力推断每个 SM 的核心数\n",
    "cores_per_sm = {\n",
    "    '3.0': 192,  # Kepler\n",
    "    '3.5': 192,\n",
    "    '5.0': 128,  # Maxwell\n",
    "    '5.2': 128,\n",
    "    '6.0': 64,   # Pascal\n",
    "    '6.1': 128,\n",
    "    '7.0': 64,   # Volta\n",
    "    '7.5': 64,   # Turing\n",
    "    '8.0': 128,  # Ampere\n",
    "    '8.6': 128\n",
    "}\n",
    "\n",
    "sm = device.compute_capability()\n",
    "sm_version = f\"{sm[0]}.{sm[1]}\"\n",
    "total_cores = device.get_attribute(cuda.device_attribute.MULTIPROCESSOR_COUNT) * cores_per_sm.get(sm_version, 64)\n",
    "\n",
    "print(f\"Compute Capability: {sm_version}\")\n",
    "print(f\"Total CUDA cores: {total_cores}\")\n"
   ]
  },
  {
   "cell_type": "markdown",
   "metadata": {},
   "source": [
    "回到之前的mandelbrot问题中，会发现在寻找c值时，这些c值是没有依赖关系的no interdependence的，二绘图的函数时不可以并行的。因此此时的$p=\\frac{9.46}{9.46+0.04}=0.996$。我的服务器时有4608个cuda内核，因此理想speedup为$\\frac{1}{0.01+.996/4608}$ "
   ]
  },
  {
   "cell_type": "markdown",
   "metadata": {},
   "source": []
  },
  {
   "cell_type": "markdown",
   "metadata": {},
   "source": [
    "## Profiling your code\n",
    "To find the bottlenecks and hotspots, 我们使用称为 ’cProfile'来检查代码. This module is a standard library function that is contained in every modern python installation. \n",
    "We can run the profiler from the command line with '-m cProfile', and specify that we want to organize the results by the cumulative time spent on each function with '-s cumtime', and then redirect the output into a text file with '>' operator.\n",
    "\n",
    "```bash\n",
    "python -m cProfile -s cumtime mandelbrot0.py > manderlbrot_profile.txt\n",
    "```\n",
    "![](../figures/mandelbrot_profile.png)\n",
    "\n",
    "\n"
   ]
  }
 ],
 "metadata": {
  "kernelspec": {
   "display_name": "base",
   "language": "python",
   "name": "python3"
  },
  "language_info": {
   "codemirror_mode": {
    "name": "ipython",
    "version": 3
   },
   "file_extension": ".py",
   "mimetype": "text/x-python",
   "name": "python",
   "nbconvert_exporter": "python",
   "pygments_lexer": "ipython3",
   "version": "3.12.4"
  }
 },
 "nbformat": 4,
 "nbformat_minor": 2
}
